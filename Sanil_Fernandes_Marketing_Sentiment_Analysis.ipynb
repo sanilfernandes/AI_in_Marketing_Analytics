{
  "nbformat": 4,
  "nbformat_minor": 0,
  "metadata": {
    "colab": {
      "provenance": []
    },
    "kernelspec": {
      "name": "python3",
      "display_name": "Python 3"
    },
    "language_info": {
      "name": "python"
    }
  },
  "cells": [
    {
      "cell_type": "markdown",
      "source": [
        "## Assignment: Marketing - Sentiment Analysis\n"
      ],
      "metadata": {
        "id": "bL5q-2UxWM05"
      }
    },
    {
      "cell_type": "markdown",
      "source": [
        "**1. GCP - Google Cloud Platform account created**"
      ],
      "metadata": {
        "id": "wrdvWzU0sKLq"
      }
    },
    {
      "cell_type": "code",
      "source": [
        "import urllib.parse\n",
        "import requests\n",
        "import pprint\n",
        "import pandas as pd"
      ],
      "metadata": {
        "id": "6u1rg_veszR-"
      },
      "execution_count": 3,
      "outputs": []
    },
    {
      "cell_type": "code",
      "source": [
        "# Read your Google Maps API key from Google Colab Notebook secret\n",
        "from google.colab import userdata\n",
        "googleMapsKey = userdata.get('google-maps-key')"
      ],
      "metadata": {
        "id": "BbSn_z3rs3cH"
      },
      "execution_count": 4,
      "outputs": []
    },
    {
      "cell_type": "markdown",
      "source": [
        "**2. Google Maps Platform \"Geocoding\" and \"New places\" APIs**"
      ],
      "metadata": {
        "id": "HFz32UbTsgsH"
      }
    },
    {
      "cell_type": "code",
      "source": [
        "# To initialize the gcloud CLI\n",
        "!gcloud init"
      ],
      "metadata": {
        "colab": {
          "base_uri": "https://localhost:8080/"
        },
        "id": "KgFoHMTlWUg-",
        "outputId": "0c608b8e-50fd-4a96-87b3-972afdebc30e"
      },
      "execution_count": 5,
      "outputs": [
        {
          "output_type": "stream",
          "name": "stdout",
          "text": [
            "Welcome! This command will take you through the configuration of gcloud.\n",
            "\n",
            "Settings from your current configuration [default] are:\n",
            "component_manager:\n",
            "  disable_update_check: 'True'\n",
            "compute:\n",
            "  gce_metadata_read_timeout_sec: '0'\n",
            "core:\n",
            "  account: sanilfernandes08@gmail.com\n",
            "  project: poetic-maxim-424221-d0\n",
            "\n",
            "Pick configuration to use:\n",
            " [1] Re-initialize this configuration [default] with new settings \n",
            " [2] Create a new configuration\n",
            "Please enter your numeric choice:  1\n",
            "\n",
            "Your current configuration has been set to: [default]\n",
            "\n",
            "You can skip diagnostics next time by using the following flag:\n",
            "  gcloud init --skip-diagnostics\n",
            "\n",
            "Network diagnostic detects and fixes local network connection issues.\n",
            "Reachability Check passed.\n",
            "Network diagnostic passed (1/1 checks passed).\n",
            "\n",
            "Choose the account you would like to use to perform operations for this \n",
            "configuration:\n",
            " [1] sanilfernandes08@gmail.com\n",
            " [2] Log in with a new account\n",
            "Please enter your numeric choice:  1\n",
            "\n",
            "You are logged in as: [sanilfernandes08@gmail.com].\n",
            "\n",
            "Pick cloud project to use: \n",
            " [1] my-project-1577376726311\n",
            " [2] parabolic-audio-272310\n",
            " [3] poetic-maxim-424221-d0\n",
            " [4] Enter a project ID\n",
            " [5] Create a new project\n",
            "Please enter numeric choice or text value (must exactly match list item):  4\n",
            "\n",
            "Enter project ID you would like to use:  poetic-maxim-424221-d0\n",
            "Your current project has been set to: [poetic-maxim-424221-d0].\n",
            "\n",
            "Not setting default zone/region (this feature makes it easier to use\n",
            "[gcloud compute] by setting an appropriate default value for the\n",
            "--zone and --region flag).\n",
            "See https://cloud.google.com/compute/docs/gcloud-compute section on how to set\n",
            "default compute region and zone manually. If you would like [gcloud init] to be\n",
            "able to do this for you the next time you run it, make sure the\n",
            "Compute Engine API is enabled for your project on the\n",
            "https://console.developers.google.com/apis page.\n",
            "\n",
            "Your Google Cloud SDK is configured and ready to use!\n",
            "\n",
            "* Commands that require authentication will use sanilfernandes08@gmail.com by default\n",
            "* Commands will reference project `poetic-maxim-424221-d0` by default\n",
            "Run `gcloud help config` to learn how to change individual settings\n",
            "\n",
            "This gcloud configuration is called [default]. You can create additional configurations if you work with multiple accounts and/or projects.\n",
            "Run `gcloud topic configurations` to learn more.\n",
            "\n",
            "Some things to try next:\n",
            "\n",
            "* Run `gcloud --help` to see the Cloud Platform services you can interact with. And run `gcloud help COMMAND` to get help on any gcloud command.\n",
            "* Run `gcloud topic --help` to learn about advanced features of the SDK like arg files and output formatting\n",
            "* Run `gcloud cheat-sheet` to see a roster of go-to `gcloud` commands.\n"
          ]
        }
      ]
    },
    {
      "cell_type": "code",
      "source": [
        "# Enable the Cloud Natural Language API\n",
        "!gcloud services enable language.googleapis.com"
      ],
      "metadata": {
        "id": "RJW92DzsXZj4"
      },
      "execution_count": 6,
      "outputs": []
    },
    {
      "cell_type": "code",
      "source": [
        "# Create local authentication credentials for your Google Account\n",
        "!gcloud auth application-default login"
      ],
      "metadata": {
        "colab": {
          "base_uri": "https://localhost:8080/"
        },
        "id": "AReY7cC9tKcv",
        "outputId": "481ce45a-4130-40db-d711-719f53c54e90"
      },
      "execution_count": 7,
      "outputs": [
        {
          "output_type": "stream",
          "name": "stdout",
          "text": [
            "Go to the following link in your browser, and complete the sign-in prompts:\n",
            "\n",
            "    https://accounts.google.com/o/oauth2/auth?response_type=code&client_id=764086051850-6qr4p6gpi6hn506pt8ejuq83di341hur.apps.googleusercontent.com&redirect_uri=https%3A%2F%2Fsdk.cloud.google.com%2Fapplicationdefaultauthcode.html&scope=openid+https%3A%2F%2Fwww.googleapis.com%2Fauth%2Fuserinfo.email+https%3A%2F%2Fwww.googleapis.com%2Fauth%2Fcloud-platform+https%3A%2F%2Fwww.googleapis.com%2Fauth%2Fsqlservice.login&state=Cb3rJ0DN1Z3d4nBuMrf1ks1sPugfkH&prompt=consent&token_usage=remote&access_type=offline&code_challenge=xHQzTPzSTivWRX607ViyyDrVXHcmCwli-o7zfvssmWg&code_challenge_method=S256\n",
            "\n",
            "Once finished, enter the verification code provided in your browser: 4/0AdLIrYcznWwmRbXjDsE4ghnnM3aAX2HDK7ILKYcccUhOs6Ocd307mcft-TnBtbkqa4Ym2w\n",
            "\n",
            "Credentials saved to file: [/content/.config/application_default_credentials.json]\n",
            "\n",
            "These credentials will be used by any library that requests Application Default Credentials (ADC).\n",
            "\n",
            "Quota project \"poetic-maxim-424221-d0\" was added to ADC which can be used by Google client libraries for billing and quota. Note that some services may still bill the project owning the resource.\n"
          ]
        }
      ]
    },
    {
      "cell_type": "code",
      "source": [
        "# Install the google-cloud-language package\n",
        "!pip install google-cloud-language\n",
        "\n",
        "# Imports the Google Cloud client library\n",
        "from google.cloud import language_v1\n",
        "\n",
        "# Instantiates a client\n",
        "client = language_v1.LanguageServiceClient()"
      ],
      "metadata": {
        "colab": {
          "base_uri": "https://localhost:8080/"
        },
        "id": "Ru0HyKyitKB4",
        "outputId": "2090ecfd-d60b-4623-b825-46ffa17f8656"
      },
      "execution_count": 8,
      "outputs": [
        {
          "output_type": "stream",
          "name": "stdout",
          "text": [
            "Requirement already satisfied: google-cloud-language in /usr/local/lib/python3.10/dist-packages (2.13.3)\n",
            "Requirement already satisfied: google-api-core[grpc]!=2.0.*,!=2.1.*,!=2.10.*,!=2.2.*,!=2.3.*,!=2.4.*,!=2.5.*,!=2.6.*,!=2.7.*,!=2.8.*,!=2.9.*,<3.0.0dev,>=1.34.1 in /usr/local/lib/python3.10/dist-packages (from google-cloud-language) (2.11.1)\n",
            "Requirement already satisfied: google-auth!=2.24.0,!=2.25.0,<3.0.0dev,>=2.14.1 in /usr/local/lib/python3.10/dist-packages (from google-cloud-language) (2.27.0)\n",
            "Requirement already satisfied: proto-plus<2.0.0dev,>=1.22.3 in /usr/local/lib/python3.10/dist-packages (from google-cloud-language) (1.23.0)\n",
            "Requirement already satisfied: protobuf!=3.20.0,!=3.20.1,!=4.21.0,!=4.21.1,!=4.21.2,!=4.21.3,!=4.21.4,!=4.21.5,<5.0.0dev,>=3.19.5 in /usr/local/lib/python3.10/dist-packages (from google-cloud-language) (3.20.3)\n",
            "Requirement already satisfied: googleapis-common-protos<2.0.dev0,>=1.56.2 in /usr/local/lib/python3.10/dist-packages (from google-api-core[grpc]!=2.0.*,!=2.1.*,!=2.10.*,!=2.2.*,!=2.3.*,!=2.4.*,!=2.5.*,!=2.6.*,!=2.7.*,!=2.8.*,!=2.9.*,<3.0.0dev,>=1.34.1->google-cloud-language) (1.63.0)\n",
            "Requirement already satisfied: requests<3.0.0.dev0,>=2.18.0 in /usr/local/lib/python3.10/dist-packages (from google-api-core[grpc]!=2.0.*,!=2.1.*,!=2.10.*,!=2.2.*,!=2.3.*,!=2.4.*,!=2.5.*,!=2.6.*,!=2.7.*,!=2.8.*,!=2.9.*,<3.0.0dev,>=1.34.1->google-cloud-language) (2.31.0)\n",
            "Requirement already satisfied: grpcio<2.0dev,>=1.33.2 in /usr/local/lib/python3.10/dist-packages (from google-api-core[grpc]!=2.0.*,!=2.1.*,!=2.10.*,!=2.2.*,!=2.3.*,!=2.4.*,!=2.5.*,!=2.6.*,!=2.7.*,!=2.8.*,!=2.9.*,<3.0.0dev,>=1.34.1->google-cloud-language) (1.64.0)\n",
            "Requirement already satisfied: grpcio-status<2.0.dev0,>=1.33.2 in /usr/local/lib/python3.10/dist-packages (from google-api-core[grpc]!=2.0.*,!=2.1.*,!=2.10.*,!=2.2.*,!=2.3.*,!=2.4.*,!=2.5.*,!=2.6.*,!=2.7.*,!=2.8.*,!=2.9.*,<3.0.0dev,>=1.34.1->google-cloud-language) (1.48.2)\n",
            "Requirement already satisfied: cachetools<6.0,>=2.0.0 in /usr/local/lib/python3.10/dist-packages (from google-auth!=2.24.0,!=2.25.0,<3.0.0dev,>=2.14.1->google-cloud-language) (5.3.3)\n",
            "Requirement already satisfied: pyasn1-modules>=0.2.1 in /usr/local/lib/python3.10/dist-packages (from google-auth!=2.24.0,!=2.25.0,<3.0.0dev,>=2.14.1->google-cloud-language) (0.4.0)\n",
            "Requirement already satisfied: rsa<5,>=3.1.4 in /usr/local/lib/python3.10/dist-packages (from google-auth!=2.24.0,!=2.25.0,<3.0.0dev,>=2.14.1->google-cloud-language) (4.9)\n",
            "Requirement already satisfied: pyasn1<0.7.0,>=0.4.6 in /usr/local/lib/python3.10/dist-packages (from pyasn1-modules>=0.2.1->google-auth!=2.24.0,!=2.25.0,<3.0.0dev,>=2.14.1->google-cloud-language) (0.6.0)\n",
            "Requirement already satisfied: charset-normalizer<4,>=2 in /usr/local/lib/python3.10/dist-packages (from requests<3.0.0.dev0,>=2.18.0->google-api-core[grpc]!=2.0.*,!=2.1.*,!=2.10.*,!=2.2.*,!=2.3.*,!=2.4.*,!=2.5.*,!=2.6.*,!=2.7.*,!=2.8.*,!=2.9.*,<3.0.0dev,>=1.34.1->google-cloud-language) (3.3.2)\n",
            "Requirement already satisfied: idna<4,>=2.5 in /usr/local/lib/python3.10/dist-packages (from requests<3.0.0.dev0,>=2.18.0->google-api-core[grpc]!=2.0.*,!=2.1.*,!=2.10.*,!=2.2.*,!=2.3.*,!=2.4.*,!=2.5.*,!=2.6.*,!=2.7.*,!=2.8.*,!=2.9.*,<3.0.0dev,>=1.34.1->google-cloud-language) (3.7)\n",
            "Requirement already satisfied: urllib3<3,>=1.21.1 in /usr/local/lib/python3.10/dist-packages (from requests<3.0.0.dev0,>=2.18.0->google-api-core[grpc]!=2.0.*,!=2.1.*,!=2.10.*,!=2.2.*,!=2.3.*,!=2.4.*,!=2.5.*,!=2.6.*,!=2.7.*,!=2.8.*,!=2.9.*,<3.0.0dev,>=1.34.1->google-cloud-language) (2.0.7)\n",
            "Requirement already satisfied: certifi>=2017.4.17 in /usr/local/lib/python3.10/dist-packages (from requests<3.0.0.dev0,>=2.18.0->google-api-core[grpc]!=2.0.*,!=2.1.*,!=2.10.*,!=2.2.*,!=2.3.*,!=2.4.*,!=2.5.*,!=2.6.*,!=2.7.*,!=2.8.*,!=2.9.*,<3.0.0dev,>=1.34.1->google-cloud-language) (2024.2.2)\n"
          ]
        }
      ]
    },
    {
      "cell_type": "markdown",
      "source": [
        "**3. Retrieving reviews using the Google Maps Platform API**"
      ],
      "metadata": {
        "id": "CdlNXufRtfLn"
      }
    },
    {
      "cell_type": "code",
      "source": [
        "def geoCodePlace(place):\n",
        "    \"\"\"Returns the geoCodedPlace for the given place\"\"\"\n",
        "\n",
        "    url = \"https://maps.googleapis.com/maps/api/geocode/json\"\n",
        "    params = {\"address\": place, \"key\": googleMapsKey}\n",
        "    response = requests.get(url, params=urllib.parse.urlencode(params))\n",
        "    return response.json()\n",
        "\n",
        "# Define the place\n",
        "place = \"Kingston Waterfront\"\n",
        "\n",
        "# Get the geoCodedPlace\n",
        "geoCodedPlace = geoCodePlace(place)\n",
        "print(\"\\nThis is the geoCodedPlace:\")\n",
        "pprint.pprint(geoCodedPlace)"
      ],
      "metadata": {
        "colab": {
          "base_uri": "https://localhost:8080/"
        },
        "id": "L5xBbTdIXZhH",
        "outputId": "a06bc286-135b-495d-b478-9c295426a8d1"
      },
      "execution_count": 95,
      "outputs": [
        {
          "output_type": "stream",
          "name": "stdout",
          "text": [
            "\n",
            "This is the geoCodedPlace:\n",
            "{'results': [{'address_components': [{'long_name': 'Kingston Waterfront',\n",
            "                                      'short_name': 'Kingston Waterfront',\n",
            "                                      'types': ['establishment',\n",
            "                                                'park',\n",
            "                                                'point_of_interest',\n",
            "                                                'tourist_attraction']},\n",
            "                                     {'long_name': 'Waterfront Pathway',\n",
            "                                      'short_name': 'Waterfront Pathway',\n",
            "                                      'types': ['route']},\n",
            "                                     {'long_name': 'Kingston',\n",
            "                                      'short_name': 'Kingston',\n",
            "                                      'types': ['locality', 'political']},\n",
            "                                     {'long_name': 'Kingston',\n",
            "                                      'short_name': 'Kingston',\n",
            "                                      'types': ['administrative_area_level_3',\n",
            "                                                'political']},\n",
            "                                     {'long_name': 'Frontenac County',\n",
            "                                      'short_name': 'Frontenac County',\n",
            "                                      'types': ['administrative_area_level_2',\n",
            "                                                'political']},\n",
            "                                     {'long_name': 'Ontario',\n",
            "                                      'short_name': 'ON',\n",
            "                                      'types': ['administrative_area_level_1',\n",
            "                                                'political']},\n",
            "                                     {'long_name': 'Canada',\n",
            "                                      'short_name': 'CA',\n",
            "                                      'types': ['country', 'political']},\n",
            "                                     {'long_name': 'K7L 0A5',\n",
            "                                      'short_name': 'K7L 0A5',\n",
            "                                      'types': ['postal_code']}],\n",
            "              'formatted_address': 'Kingston Waterfront, Waterfront Pathway, '\n",
            "                                   'Kingston, ON K7L 0A5, Canada',\n",
            "              'geometry': {'location': {'lat': 44.2272391, 'lng': -76.4815855},\n",
            "                           'location_type': 'GEOMETRIC_CENTER',\n",
            "                           'viewport': {'northeast': {'lat': 44.2286102302915,\n",
            "                                                      'lng': -76.48029051970849},\n",
            "                                        'southwest': {'lat': 44.2259122697085,\n",
            "                                                      'lng': -76.4829884802915}}},\n",
            "              'partial_match': True,\n",
            "              'place_id': 'ChIJCUkM8Puq0kwRzBQkUeCPn7o',\n",
            "              'plus_code': {'compound_code': '6GG9+V9 Kingston, ON, Canada',\n",
            "                            'global_code': '87P56GG9+V9'},\n",
            "              'types': ['establishment',\n",
            "                        'park',\n",
            "                        'point_of_interest',\n",
            "                        'tourist_attraction']}],\n",
            " 'status': 'OK'}\n"
          ]
        }
      ]
    },
    {
      "cell_type": "code",
      "source": [
        "# Get the place id\n",
        "place_id = geoCodedPlace[\"results\"][0][\"place_id\"]\n",
        "print(\"\\nThis is the place id:\")\n",
        "print(place_id)"
      ],
      "metadata": {
        "colab": {
          "base_uri": "https://localhost:8080/"
        },
        "id": "iqRX-oiHXZeL",
        "outputId": "eec01484-fe19-4ba9-e495-4324858020ef"
      },
      "execution_count": 96,
      "outputs": [
        {
          "output_type": "stream",
          "name": "stdout",
          "text": [
            "\n",
            "This is the place id:\n",
            "ChIJCUkM8Puq0kwRzBQkUeCPn7o\n"
          ]
        }
      ]
    },
    {
      "cell_type": "code",
      "source": [
        "def getPlaceDetails(place_id):\n",
        "    \"\"\"Returns the place details for the given place id\"\"\"\n",
        "\n",
        "    url = \"https://places.googleapis.com/v1/places/{}\".format(place_id)\n",
        "    params = {\n",
        "        \"fields\": \"id,displayName,rating,userRatingCount,reviews\",\n",
        "        \"key\": googleMapsKey,\n",
        "    }\n",
        "    response = requests.get(url, params=urllib.parse.urlencode(params))\n",
        "    return response.json()\n",
        "\n",
        "# Get the place details\n",
        "placeDetails = getPlaceDetails(place_id)\n",
        "print(\"\\nThese are the place details:\")\n",
        "pprint.pprint(placeDetails)"
      ],
      "metadata": {
        "colab": {
          "base_uri": "https://localhost:8080/"
        },
        "id": "nk9c2qgkXZbp",
        "outputId": "4ae9596a-eb7b-4db2-bcd8-acdb29cb0036"
      },
      "execution_count": 97,
      "outputs": [
        {
          "output_type": "stream",
          "name": "stdout",
          "text": [
            "\n",
            "These are the place details:\n",
            "{'displayName': {'languageCode': 'fi', 'text': 'Kingston Waterfront'},\n",
            " 'id': 'ChIJCUkM8Puq0kwRzBQkUeCPn7o',\n",
            " 'rating': 4.7,\n",
            " 'reviews': [{'authorAttribution': {'displayName': 'Anthony Ceretti',\n",
            "                                    'photoUri': 'https://lh3.googleusercontent.com/a-/ALV-UjUbvZzOv2dEEKoZ8kUcO8oeSsP9sK051QKv6bX8rGkCFoNfg6oLrw=s128-c0x00000000-cc-rp-mo-ba7',\n",
            "                                    'uri': 'https://www.google.com/maps/contrib/114636623860990639776/reviews'},\n",
            "              'name': 'places/ChIJCUkM8Puq0kwRzBQkUeCPn7o/reviews/ChdDSUhNMG9nS0VJQ0FnSURac3I2OXBnRRAB',\n",
            "              'originalText': {'languageCode': 'en',\n",
            "                               'text': 'What an amazing place and waterfront! '\n",
            "                                       'I wish Belleville could have something '\n",
            "                                       'close to what Kingston has. There is '\n",
            "                                       'so much more to do, and the waterfront '\n",
            "                                       'trail is perfect. You can see Old Fort '\n",
            "                                       \"Henry and so much more. We'll be back \"\n",
            "                                       'soon, and I would recommend this place '\n",
            "                                       'to everyone 💯. Give it a try, and you '\n",
            "                                       \"won't be disappointed!\"},\n",
            "              'publishTime': '2023-09-28T01:22:11Z',\n",
            "              'rating': 5,\n",
            "              'relativePublishTimeDescription': '8 months ago',\n",
            "              'text': {'languageCode': 'en',\n",
            "                       'text': 'What an amazing place and waterfront! I wish '\n",
            "                               'Belleville could have something close to what '\n",
            "                               'Kingston has. There is so much more to do, and '\n",
            "                               'the waterfront trail is perfect. You can see '\n",
            "                               \"Old Fort Henry and so much more. We'll be back \"\n",
            "                               'soon, and I would recommend this place to '\n",
            "                               \"everyone 💯. Give it a try, and you won't be \"\n",
            "                               'disappointed!'}},\n",
            "             {'authorAttribution': {'displayName': 'Kemi Chima',\n",
            "                                    'photoUri': 'https://lh3.googleusercontent.com/a-/ALV-UjUDtMeasev2HOAk-sMUOLd3hCkNzfP8-4b9kKaSeBKDs_EIsLhlWw=s128-c0x00000000-cc-rp-mo-ba6',\n",
            "                                    'uri': 'https://www.google.com/maps/contrib/104834468203798943733/reviews'},\n",
            "              'name': 'places/ChIJCUkM8Puq0kwRzBQkUeCPn7o/reviews/ChZDSUhNMG9nS0VJQ0FnSURGN2RpYVh3EAE',\n",
            "              'originalText': {'languageCode': 'en',\n",
            "                               'text': 'Had a brief stop here on my way to '\n",
            "                                       'Ottawa from Toronto. It was dark '\n",
            "                                       'because I visited in November when it '\n",
            "                                       'gets dark super early. Still able to '\n",
            "                                       'get some nice views of the waterfront '\n",
            "                                       'and take a brief walk along the water. '\n",
            "                                       'Will have to visit again during the '\n",
            "                                       'day when it is still bright.'},\n",
            "              'publishTime': '2023-11-14T03:41:08Z',\n",
            "              'rating': 5,\n",
            "              'relativePublishTimeDescription': '6 months ago',\n",
            "              'text': {'languageCode': 'en',\n",
            "                       'text': 'Had a brief stop here on my way to Ottawa from '\n",
            "                               'Toronto. It was dark because I visited in '\n",
            "                               'November when it gets dark super early. Still '\n",
            "                               'able to get some nice views of the waterfront '\n",
            "                               'and take a brief walk along the water. Will '\n",
            "                               'have to visit again during the day when it is '\n",
            "                               'still bright.'}},\n",
            "             {'authorAttribution': {'displayName': 'Hugo Kong',\n",
            "                                    'photoUri': 'https://lh3.googleusercontent.com/a/ACg8ocKCzFOJrLhuxFZGa_x16AfNRowSAdQvqlwnuQZHV3QPZ56xgw=s128-c0x00000000-cc-rp-mo-ba4',\n",
            "                                    'uri': 'https://www.google.com/maps/contrib/110383339778680862472/reviews'},\n",
            "              'name': 'places/ChIJCUkM8Puq0kwRzBQkUeCPn7o/reviews/ChZDSUhNMG9nS0VJQ0FnSUNaOC0zYVBnEAE',\n",
            "              'originalText': {'languageCode': 'en',\n",
            "                               'text': 'While strolling along the Kingston '\n",
            "                                       'waterfront, I came across a graffiti '\n",
            "                                       'wall belonging to Kingston. What a '\n",
            "                                       'surprise! 😭\\n'\n",
            "                                       'This graffiti wall is just downstairs '\n",
            "                                       'of the Delta Hotel (located by the '\n",
            "                                       'lake). Unexpectedly, the entire wall '\n",
            "                                       'is covered with various graffiti, and '\n",
            "                                       'the elements in the graffiti are all '\n",
            "                                       'from Kingston, such as the city hall, '\n",
            "                                       'boating🚣🏻, and walking🚶 🏻, skiing⛷️, '\n",
            "                                       'walking dogs🐶, squirrels🐿️, and a lot '\n",
            "                                       'of graffiti about eating, drinking and '\n",
            "                                       'having fun. These are all the outdoor '\n",
            "                                       'activities and delicious food that can '\n",
            "                                       'be done in Kingston. I really love '\n",
            "                                       'this kind of graffiti wall with '\n",
            "                                       'cultural output, it is They show '\n",
            "                                       'everyone the charm of Kingston, the '\n",
            "                                       'city they love, in such a low-key way. '\n",
            "                                       'This is how they express their love '\n",
            "                                       'for Kingston! Kingston is truly a city '\n",
            "                                       'filled with love! ❤😭'},\n",
            "              'publishTime': '2023-09-17T22:21:43Z',\n",
            "              'rating': 5,\n",
            "              'relativePublishTimeDescription': '8 months ago',\n",
            "              'text': {'languageCode': 'en',\n",
            "                       'text': 'While strolling along the Kingston waterfront, '\n",
            "                               'I came across a graffiti wall belonging to '\n",
            "                               'Kingston. What a surprise! 😭\\n'\n",
            "                               'This graffiti wall is just downstairs of the '\n",
            "                               'Delta Hotel (located by the lake). '\n",
            "                               'Unexpectedly, the entire wall is covered with '\n",
            "                               'various graffiti, and the elements in the '\n",
            "                               'graffiti are all from Kingston, such as the '\n",
            "                               'city hall, boating🚣🏻, and walking🚶 🏻, '\n",
            "                               'skiing⛷️, walking dogs🐶, squirrels🐿️, and a '\n",
            "                               'lot of graffiti about eating, drinking and '\n",
            "                               'having fun. These are all the outdoor '\n",
            "                               'activities and delicious food that can be done '\n",
            "                               'in Kingston. I really love this kind of '\n",
            "                               'graffiti wall with cultural output, it is They '\n",
            "                               'show everyone the charm of Kingston, the city '\n",
            "                               'they love, in such a low-key way. This is how '\n",
            "                               'they express their love for Kingston! Kingston '\n",
            "                               'is truly a city filled with love! ❤😭'}},\n",
            "             {'authorAttribution': {'displayName': 'DH',\n",
            "                                    'photoUri': 'https://lh3.googleusercontent.com/a-/ALV-UjWdMWf7LE98-Ickt41HyEaktD5-69zFteulKN3XTamydomBfasx=s128-c0x00000000-cc-rp-mo-ba6',\n",
            "                                    'uri': 'https://www.google.com/maps/contrib/102318656554156633633/reviews'},\n",
            "              'name': 'places/ChIJCUkM8Puq0kwRzBQkUeCPn7o/reviews/ChZDSUhNMG9nS0VJQ0FnSUNwbW8yUE5REAE',\n",
            "              'originalText': {'languageCode': 'en',\n",
            "                               'text': 'The Kingston Waterfront is a beautiful '\n",
            "                                       'place to go for a walk in the summer. '\n",
            "                                       'As you walk along the paved path next '\n",
            "                                       'to Lake Ontario you will pass many '\n",
            "                                       'parks and attractions as well as spots '\n",
            "                                       'to take photos and more. I would love '\n",
            "                                       'to come back to Kingston soon and '\n",
            "                                       'explore the waterfront more as I was '\n",
            "                                       'only here for a short time and didn’t '\n",
            "                                       'see nearly it all'},\n",
            "              'publishTime': '2023-08-01T23:24:57Z',\n",
            "              'rating': 5,\n",
            "              'relativePublishTimeDescription': '9 months ago',\n",
            "              'text': {'languageCode': 'en',\n",
            "                       'text': 'The Kingston Waterfront is a beautiful place '\n",
            "                               'to go for a walk in the summer. As you walk '\n",
            "                               'along the paved path next to Lake Ontario you '\n",
            "                               'will pass many parks and attractions as well '\n",
            "                               'as spots to take photos and more. I would love '\n",
            "                               'to come back to Kingston soon and explore the '\n",
            "                               'waterfront more as I was only here for a short '\n",
            "                               'time and didn’t see nearly it all'}},\n",
            "             {'authorAttribution': {'displayName': 'Juliet Martin',\n",
            "                                    'photoUri': 'https://lh3.googleusercontent.com/a-/ALV-UjWe8dfsQn5X6K7rGUCUIS-xLEU0FNncJAebMcpCynPpYcSJUQAeKA=s128-c0x00000000-cc-rp-mo-ba6',\n",
            "                                    'uri': 'https://www.google.com/maps/contrib/113581764729625935388/reviews'},\n",
            "              'name': 'places/ChIJCUkM8Puq0kwRzBQkUeCPn7o/reviews/ChdDSUhNMG9nS0VJQ0FnSUNodzVfTXZRRRAB',\n",
            "              'originalText': {'languageCode': 'en',\n",
            "                               'text': 'Beautiful place for a scenic walk with '\n",
            "                                       'plenty of photo opportunities. Only '\n",
            "                                       'drawback is that parts of the '\n",
            "                                       'shoreline are privately owned so '\n",
            "                                       'walking becomes a bit of a maze '\n",
            "                                       'requiring maneuvering onto city '\n",
            "                                       'roadways.'},\n",
            "              'publishTime': '2023-02-20T22:29:16Z',\n",
            "              'rating': 4,\n",
            "              'relativePublishTimeDescription': 'a year ago',\n",
            "              'text': {'languageCode': 'en',\n",
            "                       'text': 'Beautiful place for a scenic walk with plenty '\n",
            "                               'of photo opportunities. Only drawback is that '\n",
            "                               'parts of the shoreline are privately owned so '\n",
            "                               'walking becomes a bit of a maze requiring '\n",
            "                               'maneuvering onto city roadways.'}}],\n",
            " 'userRatingCount': 384}\n"
          ]
        }
      ]
    },
    {
      "cell_type": "code",
      "source": [
        "# Create an empty DataFrame with the required columns\n",
        "df_reviews = pd.DataFrame(columns=['publishTime', 'displayName', 'originalText', 'rating'])\n",
        "\n",
        "# Extract reviews and populate the DataFrame\n",
        "for review in placeDetails['reviews']:\n",
        "    review_data = {\n",
        "        'publishTime': review['publishTime'],\n",
        "        'displayName': review['authorAttribution']['displayName'],\n",
        "        'originalText': review['originalText']['text'],\n",
        "        'rating': review['rating']\n",
        "    }\n",
        "    df_reviews.loc[len(df_reviews)] = review_data"
      ],
      "metadata": {
        "id": "NfG263OMXZY2"
      },
      "execution_count": 98,
      "outputs": []
    },
    {
      "cell_type": "code",
      "source": [
        "# Display the DataFrame\n",
        "print(df_reviews)"
      ],
      "metadata": {
        "colab": {
          "base_uri": "https://localhost:8080/"
        },
        "id": "j9ihDl8NqDvm",
        "outputId": "0de6e744-7385-49f1-f956-0f92fb0dacfb"
      },
      "execution_count": 99,
      "outputs": [
        {
          "output_type": "stream",
          "name": "stdout",
          "text": [
            "            publishTime      displayName  \\\n",
            "0  2023-09-28T01:22:11Z  Anthony Ceretti   \n",
            "1  2023-11-14T03:41:08Z       Kemi Chima   \n",
            "2  2023-09-17T22:21:43Z        Hugo Kong   \n",
            "3  2023-08-01T23:24:57Z               DH   \n",
            "4  2023-02-20T22:29:16Z    Juliet Martin   \n",
            "\n",
            "                                        originalText  rating  \n",
            "0  What an amazing place and waterfront! I wish B...       5  \n",
            "1  Had a brief stop here on my way to Ottawa from...       5  \n",
            "2  While strolling along the Kingston waterfront,...       5  \n",
            "3  The Kingston Waterfront is a beautiful place t...       5  \n",
            "4  Beautiful place for a scenic walk with plenty ...       4  \n"
          ]
        }
      ]
    },
    {
      "cell_type": "code",
      "source": [
        "# Save DataFrame as CSV\n",
        "df_reviews.to_csv('reviews.csv', index=False)"
      ],
      "metadata": {
        "id": "PMjCBW6Wobdb"
      },
      "execution_count": 100,
      "outputs": []
    },
    {
      "cell_type": "markdown",
      "source": [
        "**4. Sentiment Analysis on each review using GCP**"
      ],
      "metadata": {
        "id": "DxKiP7t3qN7P"
      }
    },
    {
      "cell_type": "code",
      "source": [
        "# The text to analyze\n",
        "text = \"What an amazing place and waterfront!\"\n",
        "document = language_v1.types.Document(\n",
        "    content=text, type_=language_v1.types.Document.Type.PLAIN_TEXT\n",
        ")\n",
        "\n",
        "# Detects the sentiment of the text\n",
        "sentiment = client.analyze_sentiment(\n",
        "    request={\"document\": document}\n",
        ").document_sentiment\n",
        "\n",
        "print(f\"Text: {text}\")\n",
        "print(f\"Sentiment: {sentiment.score}, {sentiment.magnitude}\")"
      ],
      "metadata": {
        "colab": {
          "base_uri": "https://localhost:8080/"
        },
        "id": "64LG1qNhXZE3",
        "outputId": "38a7b533-541c-4f30-eed3-91f98b50d2b8"
      },
      "execution_count": 105,
      "outputs": [
        {
          "output_type": "stream",
          "name": "stdout",
          "text": [
            "Text: What an amazing place and waterfront!\n",
            "Sentiment: 0.8999999761581421, 0.8999999761581421\n"
          ]
        }
      ]
    },
    {
      "cell_type": "code",
      "source": [
        "# Load the existing CSV file\n",
        "df_reviews = pd.read_csv('reviews.csv')"
      ],
      "metadata": {
        "id": "oa6hmXvodFs2"
      },
      "execution_count": 106,
      "outputs": []
    },
    {
      "cell_type": "code",
      "source": [
        "# Detects the sentiment of the text\n",
        "def analyze_sentiment(text):\n",
        "    document = language_v1.Document(content=text, type_=language_v1.Document.Type.PLAIN_TEXT)\n",
        "    sentiment = client.analyze_sentiment(request={\"document\": document}).document_sentiment\n",
        "    return sentiment.score, sentiment.magnitude"
      ],
      "metadata": {
        "id": "FJ7zT1HChw3B"
      },
      "execution_count": 107,
      "outputs": []
    },
    {
      "cell_type": "code",
      "source": [
        "# Add sentiment and magnitude to each review\n",
        "df_reviews['sentiment'] = None\n",
        "df_reviews['magnitude'] = None\n",
        "\n",
        "for index, row in df_reviews.iterrows():\n",
        "    text = row['originalText']\n",
        "    sentiment_score, sentiment_magnitude = analyze_sentiment(text)\n",
        "    df_reviews.at[index, 'sentiment'] = sentiment_score\n",
        "    df_reviews.at[index, 'magnitude'] = sentiment_magnitude"
      ],
      "metadata": {
        "id": "SS6s441biUCN"
      },
      "execution_count": 108,
      "outputs": []
    },
    {
      "cell_type": "code",
      "source": [
        "# Display the updated DataFrame\n",
        "print(df_reviews)"
      ],
      "metadata": {
        "colab": {
          "base_uri": "https://localhost:8080/"
        },
        "id": "NRFixYoZie8u",
        "outputId": "9dcefba4-b8c5-412a-edb9-895838cd0d56"
      },
      "execution_count": 109,
      "outputs": [
        {
          "output_type": "stream",
          "name": "stdout",
          "text": [
            "            publishTime      displayName  \\\n",
            "0  2023-09-28T01:22:11Z  Anthony Ceretti   \n",
            "1  2023-11-14T03:41:08Z       Kemi Chima   \n",
            "2  2023-09-17T22:21:43Z        Hugo Kong   \n",
            "3  2023-08-01T23:24:57Z               DH   \n",
            "4  2023-02-20T22:29:16Z    Juliet Martin   \n",
            "\n",
            "                                        originalText  rating sentiment  \\\n",
            "0  What an amazing place and waterfront! I wish B...       5       0.7   \n",
            "1  Had a brief stop here on my way to Ottawa from...       5       0.2   \n",
            "2  While strolling along the Kingston waterfront,...       5       0.6   \n",
            "3  The Kingston Waterfront is a beautiful place t...       5       0.8   \n",
            "4  Beautiful place for a scenic walk with plenty ...       4       0.4   \n",
            "\n",
            "  magnitude  \n",
            "0       5.0  \n",
            "1       2.0  \n",
            "2       5.6  \n",
            "3       2.4  \n",
            "4       0.9  \n"
          ]
        }
      ]
    },
    {
      "cell_type": "markdown",
      "source": [
        "**5. Saving dataframe as a CSV file**"
      ],
      "metadata": {
        "id": "aKI3oY3BuQCi"
      }
    },
    {
      "cell_type": "code",
      "source": [
        "# Save the updated DataFrame back to a CSV file\n",
        "df_reviews.to_csv('reviews_with_sentiment.csv', index=False)"
      ],
      "metadata": {
        "id": "Vfguf0BHi5jV"
      },
      "execution_count": 110,
      "outputs": []
    },
    {
      "cell_type": "markdown",
      "source": [
        "**6. Compute the Sentiment and Magnitude average.**"
      ],
      "metadata": {
        "id": "TBp6FupPubrO"
      }
    },
    {
      "cell_type": "code",
      "source": [
        "# Compute Sentiment and Magnitude averages\n",
        "average_sentiment = df_reviews['sentiment'].mean()\n",
        "average_magnitude = df_reviews['magnitude'].mean()"
      ],
      "metadata": {
        "id": "cRGpKl9wsASu"
      },
      "execution_count": 111,
      "outputs": []
    },
    {
      "cell_type": "code",
      "source": [
        "print(f\"Average Sentiment: {average_sentiment}\")\n",
        "print(f\"Average Magnitude: {average_magnitude}\")"
      ],
      "metadata": {
        "colab": {
          "base_uri": "https://localhost:8080/"
        },
        "id": "2hbMwOzYxDeW",
        "outputId": "8cb5e8ad-7be7-47cf-cddd-33d3feca0ef1"
      },
      "execution_count": 112,
      "outputs": [
        {
          "output_type": "stream",
          "name": "stdout",
          "text": [
            "Average Sentiment: 0.5400000065565109\n",
            "Average Magnitude: 3.1799999952316282\n"
          ]
        }
      ]
    },
    {
      "cell_type": "markdown",
      "source": [
        "**7. Visualizing, Findings and recommendations**"
      ],
      "metadata": {
        "id": "dc3VbzXWuo22"
      }
    },
    {
      "cell_type": "code",
      "source": [
        "import matplotlib.pyplot as plt\n",
        "import seaborn as sns"
      ],
      "metadata": {
        "id": "YgZPz99Vuj2-"
      },
      "execution_count": 113,
      "outputs": []
    },
    {
      "cell_type": "code",
      "source": [
        "# Load the CSV file with sentiment data\n",
        "df_reviews = pd.read_csv('reviews_with_sentiment.csv')"
      ],
      "metadata": {
        "id": "F-GoE3sMwNb-"
      },
      "execution_count": 114,
      "outputs": []
    },
    {
      "cell_type": "code",
      "source": [
        "# Visualization 1: Sentiment Score Distribution\n",
        "plt.figure(figsize=(10, 6))\n",
        "sns.histplot(df_reviews['sentiment'], bins=20, kde=True)\n",
        "plt.title('Distribution of Sentiment Scores')\n",
        "plt.xlabel('Sentiment Score')\n",
        "plt.ylabel('Frequency')\n",
        "plt.grid(True)\n",
        "plt.show()"
      ],
      "metadata": {
        "colab": {
          "base_uri": "https://localhost:8080/",
          "height": 564
        },
        "id": "voar3edvxPDO",
        "outputId": "96e8baad-cce9-4b9a-e0b7-106ab82b156c"
      },
      "execution_count": 115,
      "outputs": [
        {
          "output_type": "display_data",
          "data": {
            "text/plain": [
              "<Figure size 1000x600 with 1 Axes>"
            ],
            "image/png": "[encoded data removed]"
          },
          "metadata": {}
        }
      ]
    },
    {
      "cell_type": "code",
      "source": [
        "# Visualization 2: Sentiment Over Time\n",
        "df_reviews['publishTime'] = pd.to_datetime(df_reviews['publishTime'], errors='coerce')\n",
        "plt.figure(figsize=(12, 6))\n",
        "sns.lineplot(x='publishTime', y='sentiment', data=df_reviews)\n",
        "plt.title('Sentiment Over Time')\n",
        "plt.xlabel('Publish Time')\n",
        "plt.ylabel('Sentiment Score')\n",
        "plt.grid(True)\n",
        "plt.xticks(rotation=45)\n",
        "plt.show()"
      ],
      "metadata": {
        "colab": {
          "base_uri": "https://localhost:8080/",
          "height": 601
        },
        "id": "jZ8A6rOSxO71",
        "outputId": "2577b33c-d26b-4916-adab-e846ccd6c929"
      },
      "execution_count": 116,
      "outputs": [
        {
          "output_type": "display_data",
          "data": {
            "text/plain": [
              "<Figure size 1200x600 with 1 Axes>"
            ],
            "image/png": "[encoded data removed]"
          },
          "metadata": {}
        }
      ]
    },
    {
      "cell_type": "code",
      "source": [
        "# Visualization 3: Sentiment vs. Rating\n",
        "plt.figure(figsize=(10, 6))\n",
        "sns.scatterplot(x='rating', y='sentiment', data=df_reviews)\n",
        "plt.title('Sentiment vs. Rating')\n",
        "plt.xlabel('Rating')\n",
        "plt.ylabel('Sentiment Score')\n",
        "plt.grid(True)\n",
        "plt.show()"
      ],
      "metadata": {
        "colab": {
          "base_uri": "https://localhost:8080/",
          "height": 564
        },
        "id": "rvbb7ulcxOzV",
        "outputId": "84f39fe6-30bb-4262-b1b9-ade83829167d"
      },
      "execution_count": 117,
      "outputs": [
        {
          "output_type": "display_data",
          "data": {
            "text/plain": [
              "<Figure size 1000x600 with 1 Axes>"
            ],
            "image/png": "[encoded data removed]"
          },
          "metadata": {}
        }
      ]
    },
    {
      "cell_type": "markdown",
      "source": [
        "## Report"
      ],
      "metadata": {
        "id": "cMKCP0J164RF"
      }
    },
    {
      "cell_type": "markdown",
      "source": [
        "**Introduction**\n",
        "\n",
        "This report presents an analysis of customer reviews for Kingston Waterfront, focusing on sentiment scores, ratings, and trends over time.\n",
        "\n",
        "**Data Collection and Preparation**\n",
        "\n",
        "The data for this report was collected using the Google Maps API, extracting reviews and performing sentiment analysis using Google's Natural Language API.\n",
        "\n",
        "**Visualizations and Findings**\n",
        "1. **Sentiment Score Distribution:** The sentiment scores are distributed with a peak around positive sentiments, indicating generally favorable reviews.\n",
        "There are a few negative sentiment scores, suggesting some dissatisfaction among a minority of reviewers.\n",
        "2. **Sentiment Over Time:** The sentiment scores fluctuate over time.\n",
        "Positive sentiment scores are more frequent and consistent over time, with occasional dips into negative sentiment.\n",
        "3. **Sentiment vs. Rating:** There is a positive correlation between ratings and sentiment scores, indicating that higher ratings are generally associated with more positive sentiment. Some high ratings have lower sentiment scores, suggesting that even when people rate the place highly, they may still have some negative feedback.\n",
        "4. **Average Sentiment and Magnitude**\n",
        "*   The average sentiment score is 0.54\n",
        "*   The average magnitude score is 3.17\n",
        "\n",
        "**Recommendations**\n",
        "*   Address Negative Reviews\n",
        "*   Monitor Sentiment Over Time\n",
        "*   Encourage Positive Reviews\n",
        "\n",
        "**Conclusion**\n",
        "\n",
        "The analysis of customer reviews provides valuable insights into customer satisfaction and areas for improvement. By focusing on addressing negative feedback and maintaining positive aspects, the Marketing Manager can enhance the overall customer experience. Regular monitoring and proactive engagement with customers are key to sustaining high sentiment scores and positive ratings."
      ],
      "metadata": {
        "id": "qFKzrv9242EI"
      }
    }
  ]
}